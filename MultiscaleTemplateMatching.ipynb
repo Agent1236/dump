{
 "cells": [
  {
   "cell_type": "code",
   "execution_count": 21,
   "id": "eb9df650",
   "metadata": {},
   "outputs": [],
   "source": [
    "import numpy as np\n",
    "import argparse\n",
    "import imutils\n",
    "import cv2"
   ]
  },
  {
   "cell_type": "code",
   "execution_count": 22,
   "id": "9d0148db",
   "metadata": {},
   "outputs": [],
   "source": [
    "def pyramid(image, scale=1.5, minSize=(30, 30)):\n",
    "    yield image\n",
    "    while True:\n",
    "        w = int(image.shape[1] / scale)\n",
    "        image = imutils.resize(image, width=w)\n",
    "        if image.shape[0] < minSize[1] or image.shape[1] < minSize[0]:\n",
    "            break\n",
    "        yield image"
   ]
  },
  {
   "cell_type": "code",
   "execution_count": 23,
   "id": "08436594",
   "metadata": {},
   "outputs": [],
   "source": [
    "def sliding_window(image, stepSize, windowSize):\n",
    "    for y in range(0, image.shape[0] - windowSize[1], stepSize):\n",
    "        for x in range(0, image.shape[1] - windowSize[0], stepSize):\n",
    "            yield (x, y, image[y:y + windowSize[1], x:x + windowSize[0]])"
   ]
  },
  {
   "cell_type": "code",
   "execution_count": 24,
   "id": "2ebc0566",
   "metadata": {},
   "outputs": [
    {
     "ename": "SyntaxError",
     "evalue": "invalid syntax (3343452764.py, line 7)",
     "output_type": "error",
     "traceback": [
      "\u001b[1;36m  Cell \u001b[1;32mIn[24], line 7\u001b[1;36m\u001b[0m\n\u001b[1;33m    x = pyramid(image, scale=[1:2:0.1])\u001b[0m\n\u001b[1;37m                               ^\u001b[0m\n\u001b[1;31mSyntaxError\u001b[0m\u001b[1;31m:\u001b[0m invalid syntax\n"
     ]
    }
   ],
   "source": [
    "def multi_scale_template_matching(image_path, template_path):\n",
    "    # load the image and template\n",
    "    image = cv2.imread(image_path)\n",
    "    template = cv2.imread(template_path)\n",
    "\n",
    "    # initialize the pyramid and list of scales\n",
    "    x = pyramid(image, scale=1.5)\n",
    "    pyramid1 = tuple(x)\n",
    "\n",
    "    # loop over the pyramid\n",
    "    for (i, resized) in enumerate(pyramid1):\n",
    "        # loop over the sliding window for each layer of the pyramid\n",
    "        for (x, y, window) in sliding_window(resized, stepSize=10, windowSize=template.shape[:2]):\n",
    "            # crop the ROI and then perform template matching\n",
    "            roi = resized[y:y + template.shape[0], x:x + template.shape[1]]\n",
    "            result = cv2.matchTemplate(roi, template, cv2.TM_CCOEFF)\n",
    "            (_, maxVal, _, maxLoc) = cv2.minMaxLoc(result)\n",
    "\n",
    "            # check to see if the iteration should be visualized\n",
    "            if True:\n",
    "                # draw a bounding box around the detected region\n",
    "                clone = np.dstack([resized, resized, resized])\n",
    "                cv2.rectangle(clone, (x + maxLoc[0], y + maxLoc[1]),\n",
    "                    (x + maxLoc[0] + template.shape[1], y + maxLoc[1] + template.shape[0]), (0, 0, 255), 2)\n",
    "                cv2.imshow(\"Visualize\", clone)\n",
    "                cv2.waitKey(0)\n",
    "\n",
    "            # if we have found a new maximum correlation value,\n",
    "            # then update the bookkeeping variable\n",
    "            if maxVal > found:\n",
    "                found = maxVal\n",
    "                (startX, startY) = (x + maxLoc[0], y + maxLoc[1])\n",
    "\n",
    "    # draw a bounding box around the detected result and display the image\n",
    "    clone = np.dstack([image, image, image])\n",
    "    cv2.rectangle(clone, (startX, startY), (startX + tW, startY + tH), (0, 0, 255), 2)\n",
    "    cv2.imshow(\"Image\", clone)\n",
    "    cv2.waitKey(0)"
   ]
  },
  {
   "cell_type": "code",
   "execution_count": null,
   "id": "e03e1528",
   "metadata": {},
   "outputs": [],
   "source": [
    "multi_scale_template_matching('sample3.jpg', 'board.jpg')"
   ]
  }
 ],
 "metadata": {
  "kernelspec": {
   "display_name": "Python 3 (ipykernel)",
   "language": "python",
   "name": "python3"
  },
  "language_info": {
   "codemirror_mode": {
    "name": "ipython",
    "version": 3
   },
   "file_extension": ".py",
   "mimetype": "text/x-python",
   "name": "python",
   "nbconvert_exporter": "python",
   "pygments_lexer": "ipython3",
   "version": "3.10.9"
  }
 },
 "nbformat": 4,
 "nbformat_minor": 5
}
