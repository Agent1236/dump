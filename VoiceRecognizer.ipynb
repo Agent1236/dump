{
 "cells": [
  {
   "cell_type": "code",
   "execution_count": 1,
   "metadata": {},
   "outputs": [],
   "source": [
    "import speech_recognition as sr\n",
    "import pyttsx3\n",
    "import re\n",
    "import datetime"
   ]
  },
  {
   "cell_type": "code",
   "execution_count": 2,
   "metadata": {},
   "outputs": [],
   "source": [
    "recognizer = sr.Recognizer()\n",
    "engine = pyttsx3.init('sapi5')\n",
    "voices = engine.getProperty('voices')\n",
    "engine.setProperty('voice', voices[1].id)"
   ]
  },
  {
   "cell_type": "code",
   "execution_count": 3,
   "metadata": {},
   "outputs": [],
   "source": [
    "def speak(audio):\n",
    "    engine.say(audio)\n",
    "    engine.runAndWait()"
   ]
  },
  {
   "cell_type": "code",
   "execution_count": 4,
   "metadata": {},
   "outputs": [],
   "source": [
    "def listen():\n",
    "    with sr.Microphone() as source:\n",
    "        print(\"Sleeping...\")\n",
    "        recognizer.adjust_for_ambient_noise(source)\n",
    "        recognizer.energy_threshold = 4000\n",
    "        recognizer.pause_threshold = 1\n",
    "\n",
    "        audio = recognizer.listen(source)\n",
    "        spoken_text = recognizer.recognize_google(audio).lower()\n",
    "        if \"assistant activate\" in spoken_text:\n",
    "            print(\"Hey, how can I help you?\")\n",
    "            speak(\"Hey, how can I help you?\")\n",
    "            while True:\n",
    "                audio = recognizer.listen(source)\n",
    "                try:\n",
    "                    spoken_text = recognizer.recognize_google(audio).lower()\n",
    "                    print(\"Heard:\", spoken_text)\n",
    "\n",
    "                    if any(word in spoken_text for word in [\"exit\", \"bye\", \"see ya\"]):\n",
    "                        speak(\"Exiting...\")\n",
    "                        break\n",
    "                    elif \"set a reminder\" in spoken_text:\n",
    "                        reminder_details = extract_reminder_details(spoken_text)\n",
    "                        if reminder_details:\n",
    "                            print(reminder_details)\n",
    "                            #set_reminder(reminder_details)\n",
    "                            speak(\"Reminder set successfully.\")\n",
    "                            break\n",
    "                        \n",
    "                except sr.UnknownValueError:\n",
    "                    pass\n",
    "\n",
    "                except sr.RequestError as e:\n",
    "                    print(f\"Could not request results; {e}\")\n",
    "\n",
    "def extract_reminder_details(spoken_text):\n",
    "    pattern = r\"(tomorrow|today|everyday|on \\w+ \\d+)(?: at (\\d+))?\"\n",
    "\n",
    "    match = re.search(pattern, spoken_text)\n",
    "    if match:\n",
    "        date_str, time_str = match.groups()\n",
    "        date = parse_date(date_str)\n",
    "        time = parse_time(time_str) if time_str else None\n",
    "\n",
    "        content = spoken_text.split(\"reminder for a \", 1)[-1]\n",
    "\n",
    "        reminder_details = {\n",
    "            \"date\": date,\n",
    "            \"time\": time,\n",
    "            \"content\": content\n",
    "        }\n",
    "        return reminder_details\n",
    "    else:\n",
    "        print(\"Reminder details not found.\")\n",
    "        return None\n",
    "\n",
    "def parse_date(date_str):\n",
    "    if \"tomorrow\" in date_str:\n",
    "        tomorrow = datetime.date.today() + datetime.timedelta(days=1)\n",
    "        return tomorrow.strftime(\"%Y-%m-%d\")\n",
    "    elif \"today\" in date_str:\n",
    "        return datetime.date.today().strftime(\"%Y-%m-%d\")\n",
    "    else:\n",
    "        return None\n",
    "\n",
    "def parse_time(time_str):\n",
    "    if time_str:\n",
    "        return f\"{time_str}:00 AM\"\n",
    "    else:\n",
    "        return None"
   ]
  },
  {
   "cell_type": "code",
   "execution_count": 5,
   "metadata": {},
   "outputs": [
    {
     "name": "stdout",
     "output_type": "stream",
     "text": [
      "Sleeping...\n",
      "Hey, how can I help you?\n",
      "Heard: set a reminder to water my plants everyday\n",
      "Reminder details not found.\n",
      "Heard: exit\n"
     ]
    }
   ],
   "source": [
    "listen()"
   ]
  }
 ],
 "metadata": {
  "kernelspec": {
   "display_name": "base",
   "language": "python",
   "name": "python3"
  },
  "language_info": {
   "codemirror_mode": {
    "name": "ipython",
    "version": 3
   },
   "file_extension": ".py",
   "mimetype": "text/x-python",
   "name": "python",
   "nbconvert_exporter": "python",
   "pygments_lexer": "ipython3",
   "version": "3.10.12"
  },
  "orig_nbformat": 4
 },
 "nbformat": 4,
 "nbformat_minor": 2
}
