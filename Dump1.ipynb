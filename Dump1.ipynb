{
 "cells": [
  {
   "cell_type": "code",
   "execution_count": 1,
   "id": "dedba5dd",
   "metadata": {},
   "outputs": [
    {
     "data": {
      "text/plain": [
       "-1"
      ]
     },
     "execution_count": 1,
     "metadata": {},
     "output_type": "execute_result"
    }
   ],
   "source": [
    "# Feature matching\n",
    "\n",
    "import cv2\n",
    "\n",
    "img1 = cv2.imread('board.jpg')\n",
    "img2 = cv2.imread('sample3.jpg')\n",
    "\n",
    "orb = cv2.ORB_create(nfeatures=500)\n",
    "kp1, des1 = orb.detectAndCompute(img1, None)\n",
    "kp2, des2 = orb.detectAndCompute(img2, None)\n",
    "\n",
    "bf = cv2.BFMatcher(cv2.NORM_HAMMING, crossCheck=True)\n",
    "matches = bf.match(des1, des2)\n",
    "matches = sorted(matches, key=lambda x:x.distance)\n",
    "\n",
    "match_img = cv2.drawMatches(img1, kp1, img2, kp2, matches[:50], None)\n",
    "cv2.imshow('Orgiginal Image', img1)\n",
    "cv2.imshow('Test image', img2)\n",
    "cv2.imshow('Matched', match_img)\n",
    "cv2.waitKey()"
   ]
  },
  {
   "cell_type": "code",
   "execution_count": 3,
   "id": "e92812f2",
   "metadata": {},
   "outputs": [
    {
     "ename": "SyntaxError",
     "evalue": "(unicode error) 'unicodeescape' codec can't decode bytes in position 2-3: truncated \\UXXXXXXXX escape (1855447864.py, line 7)",
     "output_type": "error",
     "traceback": [
      "\u001b[1;36m  Cell \u001b[1;32mIn[3], line 7\u001b[1;36m\u001b[0m\n\u001b[1;33m    cascade = cv2.CascadeClassifier('C:\\Users\\pgdew\\HaarCascadeTesting\\cascade\\cascade.xml')\u001b[0m\n\u001b[1;37m                                                                                           ^\u001b[0m\n\u001b[1;31mSyntaxError\u001b[0m\u001b[1;31m:\u001b[0m (unicode error) 'unicodeescape' codec can't decode bytes in position 2-3: truncated \\UXXXXXXXX escape\n"
     ]
    }
   ],
   "source": [
    "# Chess board detection using haar cascade classifier\n",
    "\n",
    "import numpy\n",
    "import cv2\n",
    "import math\n",
    "\n",
    "cascade = cv2.CascadeClassifier('C:\\Users\\pgdew\\HaarCascadeTesting\\cascade\\cascade.xml')\n",
    "\n",
    "img = cv2.imread(\"sample3.jpg\")\n",
    "\n",
    "gray = cv2.cvtColor(img, cv2.COLOR_BGR2GRAY)\n",
    "land = cascade.detectMultiScale(gray, 10, 10)\n",
    "for (x, y, w, h) in land:\n",
    "    cv2.rectangle(img, (x,y), (x+w, y+h), (0, 0, 255), 5)\n",
    "    roi_gray = gray[y:y+h, x:x+w]\n",
    "    roi_color = img[y:y+h, x:x+w]\n",
    "    print(\"Starting\")\n",
    "cv2.imshow(\"Image\", img)\n",
    "cv2.waitKey(0)"
   ]
  },
  {
   "cell_type": "code",
   "execution_count": 1,
   "id": "cdf8eba9",
   "metadata": {},
   "outputs": [
    {
     "name": "stdout",
     "output_type": "stream",
     "text": [
      "85.35\n"
     ]
    }
   ],
   "source": [
    "f = 85.34875934503\n",
    "f = '{0:.4g}'.format(f)\n",
    "print(f)"
   ]
  },
  {
   "cell_type": "code",
   "execution_count": 2,
   "id": "e57bb6cf",
   "metadata": {},
   "outputs": [],
   "source": [
    "import cv2\n",
    "\n",
    "video = cv2.VideoCapture(0)\n",
    "\n",
    "while True:\n",
    "    ret, frame = video.read()\n",
    "    cv2.imshow('frame0', frame)\n",
    "\n",
    "    if (cv2.waitKey(1) & 0xFF == ord('q')):\n",
    "        break\n",
    "\n",
    "video.release()\n",
    "cv2.destroyAllWindows()"
   ]
  },
  {
   "cell_type": "code",
   "execution_count": 26,
   "id": "7b3bc06d",
   "metadata": {},
   "outputs": [
    {
     "name": "stdout",
     "output_type": "stream",
     "text": [
      "Form Data:\n",
      "['INTERESTS[f28a11b5ae]', 'FNAME', 'EMAIL', None, '_mc4wp_honeypot', '_mc4wp_timestamp', '_mc4wp_form_id', '_mc4wp_form_element_id']\n"
     ]
    }
   ],
   "source": [
    "import requests\n",
    "from bs4 import BeautifulSoup\n",
    "\n",
    "def ReadForm(url):\n",
    "    txt = []\n",
    "    try:\n",
    "        response = requests.get(url)\n",
    "\n",
    "        if response.status_code != 200:\n",
    "            print(\"Failed to fetch the web page.\")\n",
    "            return\n",
    "\n",
    "        soup = BeautifulSoup(response.content, \"html.parser\")\n",
    "\n",
    "        form = soup.find(\"form\")\n",
    "\n",
    "        if not form:\n",
    "            print(\"No form found on the web page.\")\n",
    "            return\n",
    "\n",
    "        form_data = {}\n",
    "        for input_element in form.find_all(\"input\"):\n",
    "            name = input_element.get(\"name\")\n",
    "            value = input_element.get(\"value\", \"\")\n",
    "            type = input_element.get(\"type\")\n",
    "            form_data[name] = value\n",
    "\n",
    "        for key, type in form_data.items():\n",
    "            if type != \"hidden\":\n",
    "                txt.append(key)\n",
    "        #txt.remove(txt[0])\n",
    "        print(txt)\n",
    "\n",
    "    except Exception as e:\n",
    "        print(f\"An error occurred: {e}\")\n",
    "\n",
    "if __name__ == \"__main__\":\n",
    "    url = \"https://angelpad.com\"\n",
    "    ReadForm(url)"
   ]
  },
  {
   "cell_type": "code",
   "execution_count": 5,
   "id": "d96d0c4a",
   "metadata": {},
   "outputs": [
    {
     "name": "stdout",
     "output_type": "stream",
     "text": [
      "An error occurred: Failed to read apply because file is missing, has improper permissions, or is an unsupported or invalid format\n",
      "Coordinates of 'apply' occurrences:\n"
     ]
    }
   ],
   "source": [
    "import pyautogui\n",
    "import pytesseract\n",
    "import time\n",
    "pytesseract.pytesseract.tesseract_cmd = r\"C:\\Users\\pgdew\\pytessaract\\tesseract.exe\"\n",
    "\n",
    "def get_coordinates_of_apply():\n",
    "    try:\n",
    "        # Take a screenshot of the entire screen\n",
    "        screenshot = pyautogui.screenshot()\n",
    "\n",
    "        # Perform OCR on the screenshot to extract the text\n",
    "        ocr_result = pytesseract.image_to_string(screenshot)\n",
    "        ocr_result_lower = ocr_result.lower()\n",
    "\n",
    "        # Find all occurrences of \"apply\" in the OCR result\n",
    "        word_to_find = \"apply\"\n",
    "        coordinates = []\n",
    "\n",
    "        for match in pyautogui.locateAll(word_to_find, ocr_result_lower):\n",
    "            x, y, width, height = match.left, match.top, match.width, match.height\n",
    "            coordinates.append((x, y, width, height))\n",
    "\n",
    "        return coordinates\n",
    "\n",
    "    except Exception as e:\n",
    "        print(f\"An error occurred: {e}\")\n",
    "        return []\n",
    "\n",
    "if __name__ == \"__main__\":\n",
    "    time.sleep(2)\n",
    "    word_coordinates = get_coordinates_of_apply()\n",
    "    print(\"Coordinates of 'apply' occurrences:\")\n",
    "    for x, y, width, height in word_coordinates:\n",
    "        print(f\"X: {x}, Y: {y}, Width: {width}, Height: {height}\")"
   ]
  },
  {
   "cell_type": "code",
   "execution_count": 8,
   "id": "5d2ad7b7",
   "metadata": {},
   "outputs": [
    {
     "name": "stdout",
     "output_type": "stream",
     "text": [
      "Form Details:\n",
      "Name: N/A\n",
      "Action: /search\n",
      "Method: get\n",
      "Input Elements:\n",
      "Name: q, Type: text, Value: \n"
     ]
    }
   ],
   "source": [
    "import requests\n",
    "from bs4 import BeautifulSoup\n",
    "\n",
    "def parse_webpage(url):\n",
    "    try:\n",
    "        # Send a request to the webpage\n",
    "        response = requests.get(url)\n",
    "\n",
    "        if response.status_code != 200:\n",
    "            print(\"Failed to fetch the webpage.\")\n",
    "            return\n",
    "\n",
    "        # Parse the webpage content using BeautifulSoup\n",
    "        soup = BeautifulSoup(response.content, \"html.parser\")\n",
    "\n",
    "        # Find the form element on the webpage\n",
    "        form = soup.find(\"form\")\n",
    "\n",
    "        if not form:\n",
    "            print(\"No form found on the webpage.\")\n",
    "            return\n",
    "\n",
    "        # Print the form details\n",
    "        print(\"Form Details:\")\n",
    "        form_name = form.get(\"name\", \"N/A\")\n",
    "        form_action = form.get(\"action\", \"N/A\")\n",
    "        form_method = form.get(\"method\", \"N/A\")\n",
    "        print(f\"Name: {form_name}\")\n",
    "        print(f\"Action: {form_action}\")\n",
    "        print(f\"Method: {form_method}\")\n",
    "\n",
    "        # Extract input elements within the form\n",
    "        input_elements = form.find_all(\"input\", {\"name\": True})\n",
    "        if not input_elements:\n",
    "            print(\"No input elements found within the form.\")\n",
    "            return\n",
    "\n",
    "        print(\"Input Elements:\")\n",
    "        for element in input_elements:\n",
    "            input_name = element.get(\"name\", \"N/A\")\n",
    "            input_type = element.get(\"type\", \"N/A\")\n",
    "            input_value = element.get(\"value\", \"N/A\")\n",
    "            print(f\"Name: {input_name}, Type: {input_type}, Value: {input_value}\")\n",
    "\n",
    "    except Exception as e:\n",
    "        print(f\"An error occurred: {e}\")\n",
    "\n",
    "if __name__ == \"__main__\":\n",
    "    url = \"https://www.dreamit.com/getstarted\"\n",
    "    parse_webpage(url)"
   ]
  },
  {
   "cell_type": "code",
   "execution_count": 34,
   "id": "c1702d75",
   "metadata": {},
   "outputs": [
    {
     "name": "stdout",
     "output_type": "stream",
     "text": [
      "© Board editor = lichess.org x + vo- @ x\n",
      "\n",
      "€ > © OQ 8 iichess.org/editor/mbgkbnr/pppppppp/8/8/8/8/PPPPPPPP/RNBQKBNR_b_KQkq_—0_12color=white te OF @ Mreognito\n",
      "\n",
      "lichess.org PLAY PUZZLES LEARN WATCH COMMUNITY TOOLS. Qa SIGNIN\n",
      "\n",
      "Black to play v\n",
      "\n",
      "Castling\n",
      "\n",
      "White 0-0% 0-0-0\n",
      "Black 0-O% 90.0.0\n",
      "Set the board ¥\n",
      "Variant | Standard y\n",
      "\n",
      "‘D STARTING POSITION\n",
      "1 CLEAR BOARD\n",
      "FLIP BOARD\n",
      "\n",
      "4 ANALYSIS BOARD\n",
      "\n",
      "ARAB AR Ah iii\n",
      "Et) 2 WD 2 WG) Et\n",
      "\n",
      "Wy 2 L2G) We\n",
      "\n",
      "FEN rnbgkbnr/pppppppp/8/8/8/8/PPPPPPPP/RNBQKBNR b KQkq - 01\n",
      "\n",
      "URL _https://lichess.org/editor/rnbqkbnr/pppppppp/8/8/8/8/PPPPPPPP/RNBQKBNR b_K( .\n",
      "\n"
     ]
    },
    {
     "ename": "AttributeError",
     "evalue": "read",
     "output_type": "error",
     "traceback": [
      "\u001b[1;31m---------------------------------------------------------------------------\u001b[0m",
      "\u001b[1;31mAttributeError\u001b[0m                            Traceback (most recent call last)",
      "Cell \u001b[1;32mIn[34], line 13\u001b[0m\n\u001b[0;32m     11\u001b[0m extracted_text \u001b[39m=\u001b[39m pytesseract\u001b[39m.\u001b[39mimage_to_string(ss)\n\u001b[0;32m     12\u001b[0m \u001b[39mprint\u001b[39m(extracted_text)\n\u001b[1;32m---> 13\u001b[0m \u001b[39mprint\u001b[39m(pytesseract\u001b[39m.\u001b[39mimage_to_string(Image\u001b[39m.\u001b[39;49mopen(screen)))\n\u001b[0;32m     14\u001b[0m os\u001b[39m.\u001b[39mremove(\u001b[39m\"\u001b[39m\u001b[39mscreen.png\u001b[39m\u001b[39m\"\u001b[39m)\n",
      "File \u001b[1;32mc:\\Users\\pgdew\\miniconda3\\lib\\site-packages\\PIL\\Image.py:3236\u001b[0m, in \u001b[0;36mopen\u001b[1;34m(fp, mode, formats)\u001b[0m\n\u001b[0;32m   3233\u001b[0m     fp \u001b[39m=\u001b[39m io\u001b[39m.\u001b[39mBytesIO(fp\u001b[39m.\u001b[39mread())\n\u001b[0;32m   3234\u001b[0m     exclusive_fp \u001b[39m=\u001b[39m \u001b[39mTrue\u001b[39;00m\n\u001b[1;32m-> 3236\u001b[0m prefix \u001b[39m=\u001b[39m fp\u001b[39m.\u001b[39;49mread(\u001b[39m16\u001b[39m)\n\u001b[0;32m   3238\u001b[0m preinit()\n\u001b[0;32m   3240\u001b[0m accept_warnings \u001b[39m=\u001b[39m []\n",
      "File \u001b[1;32mc:\\Users\\pgdew\\miniconda3\\lib\\site-packages\\PIL\\Image.py:529\u001b[0m, in \u001b[0;36mImage.__getattr__\u001b[1;34m(self, name)\u001b[0m\n\u001b[0;32m    527\u001b[0m     deprecate(\u001b[39m\"\u001b[39m\u001b[39mImage categories\u001b[39m\u001b[39m\"\u001b[39m, \u001b[39m10\u001b[39m, \u001b[39m\"\u001b[39m\u001b[39mis_animated\u001b[39m\u001b[39m\"\u001b[39m, plural\u001b[39m=\u001b[39m\u001b[39mTrue\u001b[39;00m)\n\u001b[0;32m    528\u001b[0m     \u001b[39mreturn\u001b[39;00m \u001b[39mself\u001b[39m\u001b[39m.\u001b[39m_category\n\u001b[1;32m--> 529\u001b[0m \u001b[39mraise\u001b[39;00m \u001b[39mAttributeError\u001b[39;00m(name)\n",
      "\u001b[1;31mAttributeError\u001b[0m: read"
     ]
    }
   ],
   "source": [
    "import pyautogui\n",
    "import pytesseract\n",
    "import time\n",
    "from PIL import Image\n",
    "import os\n",
    "pytesseract.pytesseract.tesseract_cmd = r\"C:\\Users\\pgdew\\pytessaract\\tesseract.exe\"\n",
    "\n",
    "time.sleep(2)\n",
    "screen = pyautogui.screenshot(\"screen.png\")\n",
    "ss = Image.open(\"screen.png\")\n",
    "extracted_text = pytesseract.image_to_string(ss)\n",
    "print(extracted_text)\n",
    "print(pytesseract.image_to_string(Image.open(screen)))\n",
    "os.remove(\"screen.png\")"
   ]
  },
  {
   "cell_type": "code",
   "execution_count": 37,
   "id": "fccb837c",
   "metadata": {},
   "outputs": [
    {
     "name": "stdout",
     "output_type": "stream",
     "text": [
      "{'q': ''}\n"
     ]
    }
   ],
   "source": [
    "from bs4 import BeautifulSoup\n",
    "import requests\n",
    "\n",
    "url = \"https://www.dreamit.com/getstarted\"\n",
    "\n",
    "response = requests.get(url)\n",
    "\n",
    "soup = BeautifulSoup(response.content, \"html.parser\")\n",
    "\n",
    "form = soup.find(\"form\")\n",
    "\n",
    "# Extract form data\n",
    "form_data = {}\n",
    "for input_field in form.find_all(\"input\"):\n",
    "    field_name = input_field.get(\"name\")\n",
    "    field_value = input_field.get(\"value\", \"\")\n",
    "    form_data[field_name] = field_value\n",
    "\n",
    "print(form_data)"
   ]
  },
  {
   "cell_type": "code",
   "execution_count": 2,
   "id": "76584fd0",
   "metadata": {},
   "outputs": [
    {
     "ename": "KeyboardInterrupt",
     "evalue": "",
     "output_type": "error",
     "traceback": [
      "\u001b[1;31m---------------------------------------------------------------------------\u001b[0m",
      "\u001b[1;31mKeyboardInterrupt\u001b[0m                         Traceback (most recent call last)",
      "Cell \u001b[1;32mIn[2], line 27\u001b[0m\n\u001b[0;32m     24\u001b[0m \u001b[39m# Wait for the user to focus on the web form (e.g., click inside a field)\u001b[39;00m\n\u001b[0;32m     25\u001b[0m \u001b[39minput\u001b[39m(\u001b[39m\"\u001b[39m\u001b[39mPress Enter when the form field is focused...\u001b[39m\u001b[39m\"\u001b[39m)\n\u001b[1;32m---> 27\u001b[0m autofill_form(form_data)\n",
      "Cell \u001b[1;32mIn[2], line 18\u001b[0m, in \u001b[0;36mautofill_form\u001b[1;34m(data)\u001b[0m\n\u001b[0;32m     16\u001b[0m \u001b[39m# Type the value into the form field\u001b[39;00m\n\u001b[0;32m     17\u001b[0m pyautogui\u001b[39m.\u001b[39mtypewrite(\u001b[39mstr\u001b[39m(value), interval\u001b[39m=\u001b[39m\u001b[39m0.1\u001b[39m)  \u001b[39m# Adjust the typing interval if needed\u001b[39;00m\n\u001b[1;32m---> 18\u001b[0m time\u001b[39m.\u001b[39;49msleep(\u001b[39m0.5\u001b[39;49m)\n",
      "\u001b[1;31mKeyboardInterrupt\u001b[0m: "
     ]
    }
   ],
   "source": [
    "import requests\n",
    "from bs4 import BeautifulSoup\n",
    "from sklearn.feature_extraction.text import CountVectorizer\n",
    "from sklearn.linear_model import LogisticRegression\n",
    "from sklearn.model_selection import train_test_split\n",
    "from sklearn.metrics import accuracy_score\n",
    "\n",
    "def extract_form_info(url):\n",
    "    # Send an HTTP GET request to the URL\n",
    "    response = requests.get(url)\n",
    "\n",
    "    # Parse the HTML content\n",
    "    soup = BeautifulSoup(response.content, \"html.parser\")\n",
    "\n",
    "    # Count the number of form elements\n",
    "    num_forms = len(soup.find_all(\"form\"))\n",
    "\n",
    "    # Count the number of input elements (excluding type=\"hidden\")\n",
    "    num_inputs = len(soup.find_all(\"input\", {\"type\": lambda x: x != \"hidden\"}))\n",
    "\n",
    "    # Return a string representation of the form information\n",
    "    return f\"{num_forms} forms, {num_inputs} input elements\"\n",
    "\n",
    "def build_dataset(urls, labels):\n",
    "    # Create a list to store form information for each URL\n",
    "    data = []\n",
    "\n",
    "    for url, label in zip(urls, labels):\n",
    "        form_info = extract_form_info(url)\n",
    "        data.append((form_info, label))\n",
    "\n",
    "    return data\n",
    "\n",
    "def train_model(data):\n",
    "    # Prepare the dataset\n",
    "    vectorizer = CountVectorizer()\n",
    "    X, y = zip(*data)\n",
    "    X = vectorizer.fit_transform(X)\n",
    "\n",
    "    # Split the data into training and testing sets\n",
    "    X_train, X_test, y_train, y_test = train_test_split(X, y, test_size=0.2, random_state=42)\n",
    "\n",
    "    # Train a logistic regression model\n",
    "    model = LogisticRegression()\n",
    "    model.fit(X_train, y_train)\n",
    "\n",
    "    # Test the model\n",
    "    y_pred = model.predict(X_test)\n",
    "    accuracy = accuracy_score(y_test, y_pred)\n",
    "    print(\"Model Accuracy:\", accuracy)\n",
    "\n",
    "    return model\n",
    "\n",
    "if __name__ == \"__main__\":\n",
    "    # Replace with the URLs of websites to check for forms\n",
    "    urls = [\n",
    "        \"https://example.com\",\n",
    "        \"https://example.com/contact\",\n",
    "        \"https://example.com/about\",\n",
    "    ]\n",
    "    # Replace with the corresponding labels (0 for no form, 1 for form)\n",
    "    labels = [1, 0, 1]\n",
    "\n",
    "    # Build the dataset\n",
    "    data = build_dataset(urls, labels)\n",
    "\n",
    "    # Train the model\n",
    "    model = train_model(data)\n",
    "\n",
    "    # Example usage: Predict whether a new webpage contains a form or not\n",
    "    new_url = \"https://example.com/new_page\"\n",
    "    new_form_info = extract_form_info(new_url)\n",
    "    new_X = vectorizer.transform([new_form_info])\n",
    "    prediction = model.predict(new_X)\n",
    "    print(\"Predicted Label:\", prediction[0])"
   ]
  },
  {
   "cell_type": "code",
   "execution_count": 1,
   "id": "ac8e9058",
   "metadata": {},
   "outputs": [],
   "source": [
    "import requests\n",
    "import cv2\n",
    "\n",
    "data = cv2.imread(\"formdata.csv\")\n",
    "\n"
   ]
  },
  {
   "cell_type": "code",
   "execution_count": 9,
   "id": "687777bb",
   "metadata": {},
   "outputs": [
    {
     "ename": "AttributeError",
     "evalue": "module 'serial' has no attribute 'Serial'",
     "output_type": "error",
     "traceback": [
      "\u001b[1;31m---------------------------------------------------------------------------\u001b[0m",
      "\u001b[1;31mAttributeError\u001b[0m                            Traceback (most recent call last)",
      "Cell \u001b[1;32mIn[9], line 4\u001b[0m\n\u001b[0;32m      1\u001b[0m \u001b[39mimport\u001b[39;00m \u001b[39mpyfirmata\u001b[39;00m\n\u001b[0;32m      2\u001b[0m \u001b[39mimport\u001b[39;00m \u001b[39mtime\u001b[39;00m\n\u001b[1;32m----> 4\u001b[0m board \u001b[39m=\u001b[39m pyfirmata\u001b[39m.\u001b[39;49mArduino(\u001b[39m'\u001b[39;49m\u001b[39mCOM3\u001b[39;49m\u001b[39m'\u001b[39;49m)\n\u001b[0;32m      6\u001b[0m \u001b[39mfor\u001b[39;00m _ \u001b[39min\u001b[39;00m \u001b[39mrange\u001b[39m (\u001b[39m5\u001b[39m):\n\u001b[0;32m      7\u001b[0m     board\u001b[39m.\u001b[39mdigital[\u001b[39m10\u001b[39m]\u001b[39m.\u001b[39mwrite(\u001b[39m1\u001b[39m)\n",
      "File \u001b[1;32mc:\\Users\\pgdew\\miniconda3\\lib\\site-packages\\pyfirmata\\__init__.py:19\u001b[0m, in \u001b[0;36mArduino.__init__\u001b[1;34m(self, *args, **kwargs)\u001b[0m\n\u001b[0;32m     17\u001b[0m args \u001b[39m=\u001b[39m \u001b[39mlist\u001b[39m(args)\n\u001b[0;32m     18\u001b[0m args\u001b[39m.\u001b[39mappend(BOARDS[\u001b[39m'\u001b[39m\u001b[39marduino\u001b[39m\u001b[39m'\u001b[39m])\n\u001b[1;32m---> 19\u001b[0m \u001b[39msuper\u001b[39m(Arduino, \u001b[39mself\u001b[39m)\u001b[39m.\u001b[39m\u001b[39m__init__\u001b[39m(\u001b[39m*\u001b[39margs, \u001b[39m*\u001b[39m\u001b[39m*\u001b[39mkwargs)\n",
      "File \u001b[1;32mc:\\Users\\pgdew\\miniconda3\\lib\\site-packages\\pyfirmata\\pyfirmata.py:89\u001b[0m, in \u001b[0;36mBoard.__init__\u001b[1;34m(self, port, layout, baudrate, name, timeout)\u001b[0m\n\u001b[0;32m     88\u001b[0m \u001b[39mdef\u001b[39;00m \u001b[39m__init__\u001b[39m(\u001b[39mself\u001b[39m, port, layout\u001b[39m=\u001b[39m\u001b[39mNone\u001b[39;00m, baudrate\u001b[39m=\u001b[39m\u001b[39m57600\u001b[39m, name\u001b[39m=\u001b[39m\u001b[39mNone\u001b[39;00m, timeout\u001b[39m=\u001b[39m\u001b[39mNone\u001b[39;00m):\n\u001b[1;32m---> 89\u001b[0m     \u001b[39mself\u001b[39m\u001b[39m.\u001b[39msp \u001b[39m=\u001b[39m serial\u001b[39m.\u001b[39;49mSerial(port, baudrate, timeout\u001b[39m=\u001b[39mtimeout)\n\u001b[0;32m     90\u001b[0m     \u001b[39m# Allow 5 secs for Arduino's auto-reset to happen\u001b[39;00m\n\u001b[0;32m     91\u001b[0m     \u001b[39m# Alas, Firmata blinks its version before printing it to serial\u001b[39;00m\n\u001b[0;32m     92\u001b[0m     \u001b[39m# For 2.3, even 5 seconds might not be enough.\u001b[39;00m\n\u001b[0;32m     93\u001b[0m     \u001b[39m# TODO Find a more reliable way to wait until the board is ready\u001b[39;00m\n\u001b[0;32m     94\u001b[0m     \u001b[39mself\u001b[39m\u001b[39m.\u001b[39mpass_time(BOARD_SETUP_WAIT_TIME)\n",
      "\u001b[1;31mAttributeError\u001b[0m: module 'serial' has no attribute 'Serial'"
     ]
    }
   ],
   "source": [
    "import pyfirmata\n",
    "import time\n",
    "\n",
    "board = pyfirmata.Arduino('COM3')\n",
    "\n",
    "for _ in range (5):\n",
    "    board.digital[10].write(1)\n",
    "    time.sleep(0.5)\n",
    "    board.digital[10].write(0)\n",
    "    time.sleep(0.5)"
   ]
  },
  {
   "cell_type": "code",
   "execution_count": 3,
   "id": "2c6f4cb6",
   "metadata": {},
   "outputs": [
    {
     "name": "stdout",
     "output_type": "stream",
     "text": [
      "Form not found on the page.\n"
     ]
    }
   ],
   "source": [
    "import requests\n",
    "from bs4 import BeautifulSoup\n",
    "\n",
    "# Define the URL of the webpage\n",
    "url = \"https://www.dreamit.com/getstarted\"\n",
    "\n",
    "# Send an HTTP GET request to the webpage\n",
    "response = requests.get(url)\n",
    "\n",
    "# Check if the request was successful\n",
    "if response.status_code == 200:\n",
    "    # Parse the HTML content of the webpage\n",
    "    soup = BeautifulSoup(response.content, \"html.parser\")\n",
    "    \n",
    "    # Find the form element using its attributes (e.g., id, class)\n",
    "    form = soup.find(\"form\", {\"id\": \"name\"})\n",
    "    \n",
    "    if form:\n",
    "        # Loop through the form elements to extract data\n",
    "        for input_element in form.find_all(\"input\"):\n",
    "            input_name = input_element.get(\"name\")\n",
    "            input_value = input_element.get(\"value\", \"\")\n",
    "            print(f\"Input Name: {input_name}, Value: {input_value}\")\n",
    "    else:\n",
    "        print(\"Form not found on the page.\")\n",
    "else:\n",
    "    print(f\"Failed to retrieve the webpage. Status code: {response.status_code}\")"
   ]
  },
  {
   "cell_type": "code",
   "execution_count": 5,
   "id": "58afc52d",
   "metadata": {},
   "outputs": [
    {
     "name": "stdout",
     "output_type": "stream",
     "text": [
      "listening...\n",
      "Text - what wake up\n"
     ]
    }
   ],
   "source": [
    "import speech_recognition as sr\n",
    "\n",
    "r = sr.Recognizer()\n",
    "with sr.Microphone() as source:\n",
    "    print(\"listening...\")\n",
    "    audio = r.listen(source)\n",
    "\n",
    "    try:\n",
    "        print(\"Text - \" + r.recognize_google(audio))\n",
    "    except:\n",
    "        print(\"error\")\n"
   ]
  },
  {
   "cell_type": "code",
   "execution_count": 4,
   "id": "16885582",
   "metadata": {},
   "outputs": [
    {
     "name": "stdout",
     "output_type": "stream",
     "text": [
      "Listening for trigger...\n",
      "Heard: assistant activate\n"
     ]
    }
   ],
   "source": [
    "import speech_recognition as sr\n",
    "import pyttsx3\n",
    "\n",
    "recognizer = sr.Recognizer()\n",
    "engine = pyttsx3.init('sapi5')\n",
    "voices = engine.getProperty('voices')\n",
    "engine.setProperty('voice', voices[1].id)\n",
    "\n",
    "def speak(audio):\n",
    "    engine.say(audio)\n",
    "    engine.runAndWait()\n",
    "\n",
    "def listen_continuously():\n",
    "    with sr.Microphone() as source:\n",
    "        print(\"Listening for trigger...\")\n",
    "        recognizer.adjust_for_ambient_noise(source)\n",
    "        recognizer.energy_threshold = 4000\n",
    "\n",
    "        while True:\n",
    "            audio = recognizer.listen(source)\n",
    "            try:\n",
    "                spoken_text = recognizer.recognize_google(audio).lower()\n",
    "                print(\"Heard:\", spoken_text)\n",
    "                \n",
    "                if \"assistant activate\" in spoken_text:\n",
    "                    speak(\"Activation detected. Your model is now active.\")\n",
    "                    break\n",
    "\n",
    "            except sr.UnknownValueError:\n",
    "                pass\n",
    "\n",
    "            except sr.RequestError as e:\n",
    "                print(f\"Could not request results; {e}\")\n",
    "\n",
    "listen_continuously()"
   ]
  },
  {
   "cell_type": "code",
   "execution_count": 2,
   "id": "91c0dd9c",
   "metadata": {},
   "outputs": [
    {
     "name": "stdout",
     "output_type": "stream",
     "text": [
      "401 Client Error: Unauthorized for url: https://api.todoist.com/rest/v2/projects\n"
     ]
    }
   ],
   "source": [
    "from todoist_api_python.api import TodoistAPI\n",
    "\n",
    "api = TodoistAPI(\"0123456789abcdef0123456789\")\n",
    "\n",
    "try:\n",
    "    projects = api.get_projects()\n",
    "    print(projects)\n",
    "except Exception as error:\n",
    "    print(error)"
   ]
  },
  {
   "cell_type": "code",
   "execution_count": null,
   "id": "5d2f337e",
   "metadata": {},
   "outputs": [],
   "source": []
  }
 ],
 "metadata": {
  "kernelspec": {
   "display_name": "Python 3 (ipykernel)",
   "language": "python",
   "name": "python3"
  },
  "language_info": {
   "codemirror_mode": {
    "name": "ipython",
    "version": 3
   },
   "file_extension": ".py",
   "mimetype": "text/x-python",
   "name": "python",
   "nbconvert_exporter": "python",
   "pygments_lexer": "ipython3",
   "version": "3.10.12"
  }
 },
 "nbformat": 4,
 "nbformat_minor": 5
}
